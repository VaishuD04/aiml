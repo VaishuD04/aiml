{
 "cells": [
  {
   "cell_type": "code",
   "execution_count": 1,
   "id": "5d9fbd60-3601-4416-bb0f-3e124d5dc46a",
   "metadata": {},
   "outputs": [
    {
     "name": "stdout",
     "output_type": "stream",
     "text": [
      "AND Gate:\n",
      "0 AND 0 = 0\n",
      "0 AND 1 = 0\n",
      "1 AND 0 = 0\n",
      "1 AND 1 = 1\n",
      "\n",
      "NAND Gate:\n",
      "0 NAND 0 = 1\n",
      "0 NAND 1 = 1\n",
      "1 NAND 0 = 1\n",
      "1 NAND 1 = 0\n"
     ]
    }
   ],
   "source": [
    "import numpy as np\n",
    "\n",
    "def and_gate(x1, x2):\n",
    "    weights = np.array([1, 1])\n",
    "    bias = -1.5\n",
    "\n",
    "    x = np.array([x1, x2])\n",
    "    weighted_sum = np.dot(x, weights) + bias\n",
    "    output = 1 if weighted_sum >= 0 else 0\n",
    "\n",
    "    return output\n",
    "\n",
    "def nand_gate(x1, x2):\n",
    "    weights = np.array([-1, -1])\n",
    "    bias = 1.5\n",
    "\n",
    "    x = np.array([x1, x2])\n",
    "    weighted_sum = np.dot(x, weights) + bias\n",
    "    output = 1 if weighted_sum >= 0 else 0\n",
    "\n",
    "    return output\n",
    "\n",
    "def test_gates():\n",
    "    print(\"AND Gate:\")\n",
    "    for x1 in [0, 1]:\n",
    "        for x2 in [0, 1]:\n",
    "            print(f\"{x1} AND {x2} = {and_gate(x1, x2)}\")\n",
    "\n",
    "    print(\"\\nNAND Gate:\")\n",
    "    for x1 in [0, 1]:\n",
    "        for x2 in [0, 1]:\n",
    "            print(f\"{x1} NAND {x2} = {nand_gate(x1, x2)}\")\n",
    "\n",
    "if __name__ == \"__main__\":\n",
    "    test_gates()\n"
   ]
  },
  {
   "cell_type": "code",
   "execution_count": null,
   "id": "836fd6c8-538c-4dcb-88ab-28e31ed719ec",
   "metadata": {},
   "outputs": [],
   "source": []
  }
 ],
 "metadata": {
  "kernelspec": {
   "display_name": "Python 3 (ipykernel)",
   "language": "python",
   "name": "python3"
  },
  "language_info": {
   "codemirror_mode": {
    "name": "ipython",
    "version": 3
   },
   "file_extension": ".py",
   "mimetype": "text/x-python",
   "name": "python",
   "nbconvert_exporter": "python",
   "pygments_lexer": "ipython3",
   "version": "3.11.7"
  }
 },
 "nbformat": 4,
 "nbformat_minor": 5
}
