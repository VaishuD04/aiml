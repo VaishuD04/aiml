{
 "cells": [
  {
   "cell_type": "code",
   "execution_count": 6,
   "id": "8e4c0504-54b1-428a-afbe-4da8998a8bac",
   "metadata": {},
   "outputs": [
    {
     "name": "stdout",
     "output_type": "stream",
     "text": [
      "[0, 1, 1, 2, 3, 5, 8, 13, 21, 34]\n"
     ]
    }
   ],
   "source": [
    "def fibonacci_series (n):\n",
    "    if n<0: \n",
    "        print (\"Incorrect input\")\n",
    "        return [] \n",
    "    elif n==0:\n",
    "        return[0]\n",
    "    elif n==1:\n",
    "        return[0, 1]\n",
    "    else:\n",
    "        series=[0, 1]\n",
    "        a, b = 0, 1 \n",
    "        for _ in range(2, n+1):\n",
    "            c = a + b\n",
    "            series.append(c)\n",
    "            a, b = b, c\n",
    "        return series\n",
    "print(fibonacci_series (9))"
   ]
  },
  {
   "cell_type": "code",
   "execution_count": null,
   "id": "ed9f934f-c149-47e9-9b6c-65a804e50377",
   "metadata": {},
   "outputs": [],
   "source": []
  }
 ],
 "metadata": {
  "kernelspec": {
   "display_name": "Python 3 (ipykernel)",
   "language": "python",
   "name": "python3"
  },
  "language_info": {
   "codemirror_mode": {
    "name": "ipython",
    "version": 3
   },
   "file_extension": ".py",
   "mimetype": "text/x-python",
   "name": "python",
   "nbconvert_exporter": "python",
   "pygments_lexer": "ipython3",
   "version": "3.11.7"
  }
 },
 "nbformat": 4,
 "nbformat_minor": 5
}
