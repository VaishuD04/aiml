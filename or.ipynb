{
 "cells": [
  {
   "cell_type": "code",
   "execution_count": 1,
   "id": "acebe3d3-c53c-4368-8b39-8923d7ab85b3",
   "metadata": {},
   "outputs": [
    {
     "name": "stdout",
     "output_type": "stream",
     "text": [
      "OR Gate:\n",
      "0 OR 0 = 0\n",
      "0 OR 1 = 1\n",
      "1 OR 0 = 1\n",
      "1 OR 1 = 1\n",
      "\n",
      "NOR Gate:\n",
      "0 NOR 0 = 1\n",
      "0 NOR 1 = 0\n",
      "1 NOR 0 = 0\n",
      "1 NOR 1 = 0\n"
     ]
    }
   ],
   "source": [
    "import numpy as np\n",
    "\n",
    "def or_gate(x1, x2):\n",
    "    weights = np.array([1, 1])\n",
    "    bias = -0.5  # lowers threshold so output is 1 if any input is 1\n",
    "\n",
    "    x = np.array([x1, x2])\n",
    "    weighted_sum = np.dot(x, weights) + bias\n",
    "    output = 1 if weighted_sum >= 0 else 0\n",
    "\n",
    "    return output\n",
    "\n",
    "def nor_gate(x1, x2):\n",
    "    weights = np.array([-1, -1])\n",
    "    bias = 0.5  # raises threshold so output is 1 only if both inputs are 0\n",
    "\n",
    "    x = np.array([x1, x2])\n",
    "    weighted_sum = np.dot(x, weights) + bias\n",
    "    output = 1 if weighted_sum >= 0 else 0\n",
    "\n",
    "    return output\n",
    "\n",
    "def test_gates():\n",
    "    print(\"OR Gate:\")\n",
    "    for x1 in [0, 1]:\n",
    "        for x2 in [0, 1]:\n",
    "            print(f\"{x1} OR {x2} = {or_gate(x1, x2)}\")\n",
    "\n",
    "    print(\"\\nNOR Gate:\")\n",
    "    for x1 in [0, 1]:\n",
    "        for x2 in [0, 1]:\n",
    "            print(f\"{x1} NOR {x2} = {nor_gate(x1, x2)}\")\n",
    "\n",
    "if __name__ == \"__main__\":\n",
    "    test_gates()\n"
   ]
  },
  {
   "cell_type": "code",
   "execution_count": null,
   "id": "2c9e868b-83d9-4d6f-b60e-865d3bf2fa35",
   "metadata": {},
   "outputs": [],
   "source": []
  }
 ],
 "metadata": {
  "kernelspec": {
   "display_name": "Python 3 (ipykernel)",
   "language": "python",
   "name": "python3"
  },
  "language_info": {
   "codemirror_mode": {
    "name": "ipython",
    "version": 3
   },
   "file_extension": ".py",
   "mimetype": "text/x-python",
   "name": "python",
   "nbconvert_exporter": "python",
   "pygments_lexer": "ipython3",
   "version": "3.11.7"
  }
 },
 "nbformat": 4,
 "nbformat_minor": 5
}
