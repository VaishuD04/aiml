{
 "cells": [
  {
   "cell_type": "code",
   "execution_count": 2,
   "id": "502e22f2-22aa-4be2-bbbb-ef5e943502b8",
   "metadata": {},
   "outputs": [
    {
     "name": "stdout",
     "output_type": "stream",
     "text": [
      "Depth First Search:\n",
      "5\n",
      "י7\n"
     ]
    },
    {
     "ename": "KeyError",
     "evalue": "'י7'",
     "output_type": "error",
     "traceback": [
      "\u001b[1;31m---------------------------------------------------------------------------\u001b[0m",
      "\u001b[1;31mKeyError\u001b[0m                                  Traceback (most recent call last)",
      "Cell \u001b[1;32mIn[2], line 19\u001b[0m\n\u001b[0;32m     16\u001b[0m         dfs(visited, graph, neighbour)\n\u001b[0;32m     18\u001b[0m \u001b[38;5;28mprint\u001b[39m(\u001b[38;5;124m\"\u001b[39m\u001b[38;5;124mDepth First Search:\u001b[39m\u001b[38;5;124m\"\u001b[39m) \n\u001b[1;32m---> 19\u001b[0m dfs(visited, graph, \u001b[38;5;124m'\u001b[39m\u001b[38;5;124m5\u001b[39m\u001b[38;5;124m'\u001b[39m)\n",
      "Cell \u001b[1;32mIn[2], line 16\u001b[0m, in \u001b[0;36mdfs\u001b[1;34m(visited, graph, node)\u001b[0m\n\u001b[0;32m     14\u001b[0m visited\u001b[38;5;241m.\u001b[39madd(node)\n\u001b[0;32m     15\u001b[0m \u001b[38;5;28;01mfor\u001b[39;00m neighbour \u001b[38;5;129;01min\u001b[39;00m graph [node]: \n\u001b[1;32m---> 16\u001b[0m     dfs(visited, graph, neighbour)\n",
      "Cell \u001b[1;32mIn[2], line 15\u001b[0m, in \u001b[0;36mdfs\u001b[1;34m(visited, graph, node)\u001b[0m\n\u001b[0;32m     13\u001b[0m     \u001b[38;5;28mprint\u001b[39m(node)\n\u001b[0;32m     14\u001b[0m visited\u001b[38;5;241m.\u001b[39madd(node)\n\u001b[1;32m---> 15\u001b[0m \u001b[38;5;28;01mfor\u001b[39;00m neighbour \u001b[38;5;129;01min\u001b[39;00m graph [node]: \n\u001b[0;32m     16\u001b[0m     dfs(visited, graph, neighbour)\n",
      "\u001b[1;31mKeyError\u001b[0m: 'י7'"
     ]
    }
   ],
   "source": [
    "graph = {\n",
    "    '5': \n",
    "    '3': ['2', '4'],\n",
    "    '7': ['8'],\n",
    "    '2': [],\n",
    "    '4': ['8'],\n",
    "    '8': []\n",
    "}\n",
    "visited = set()\n",
    "\n",
    "def dfs(visited, graph, node): \n",
    "    if node not in visited: \n",
    "        print(node)\n",
    "    visited.add(node)\n",
    "    for neighbour in graph [node]: \n",
    "        dfs(visited, graph, neighbour)\n",
    "\n",
    "print(\"Depth First Search:\") \n",
    "dfs(visited, graph, '5')"
   ]
  },
  {
   "cell_type": "code",
   "execution_count": null,
   "id": "cd22d443-8219-4bd2-9912-5d7611f6a3bc",
   "metadata": {},
   "outputs": [],
   "source": []
  }
 ],
 "metadata": {
  "kernelspec": {
   "display_name": "Python 3 (ipykernel)",
   "language": "python",
   "name": "python3"
  },
  "language_info": {
   "codemirror_mode": {
    "name": "ipython",
    "version": 3
   },
   "file_extension": ".py",
   "mimetype": "text/x-python",
   "name": "python",
   "nbconvert_exporter": "python",
   "pygments_lexer": "ipython3",
   "version": "3.11.7"
  }
 },
 "nbformat": 4,
 "nbformat_minor": 5
}
