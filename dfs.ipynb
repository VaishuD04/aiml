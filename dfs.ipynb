{
 "cells": [
  {
   "cell_type": "code",
   "execution_count": 2,
   "id": "502e22f2-22aa-4be2-bbbb-ef5e943502b8",
   "metadata": {},
   "outputs": [
    {
     "name": "stdout",
     "output_type": "stream",
     "text": [
      "Depth First Search:\n",
      "4\n",
      "8\n"
     ]
    }
   ],
   "source": [
    "graph = {\n",
    "    '5': ['3', '7'],\n",
    "    '3': ['2', '4'],\n",
    "    '7': ['8'],\n",
    "    '2': [],\n",
    "    '4': ['8'],\n",
    "    '8': []\n",
    "}\n",
    "visited = set()\n",
    "\n",
    "def dfs(visited, graph, node): \n",
    "    if node not in visited: \n",
    "        print(node)\n",
    "        visited.add(node)\n",
    "    for neighbour in graph [node]: \n",
    "        dfs(visited, graph, neighbour)\n",
    "\n",
    "print(\"Depth First Search:\") \n",
    "dfs(visited, graph, '4')"
   ]
  },
  {
   "cell_type": "code",
   "execution_count": null,
   "id": "cd22d443-8219-4bd2-9912-5d7611f6a3bc",
   "metadata": {},
   "outputs": [],
   "source": []
  }
 ],
 "metadata": {
  "kernelspec": {
   "display_name": "Python 3 (ipykernel)",
   "language": "python",
   "name": "python3"
  },
  "language_info": {
   "codemirror_mode": {
    "name": "ipython",
    "version": 3
   },
   "file_extension": ".py",
   "mimetype": "text/x-python",
   "name": "python",
   "nbconvert_exporter": "python",
   "pygments_lexer": "ipython3",
   "version": "3.11.7"
  }
 },
 "nbformat": 4,
 "nbformat_minor": 5
}
