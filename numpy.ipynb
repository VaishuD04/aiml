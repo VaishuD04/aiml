{
 "cells": [
  {
   "cell_type": "code",
   "execution_count": 1,
   "id": "536a26fa-56ce-4d5d-a303-59f13016fdec",
   "metadata": {},
   "outputs": [
    {
     "name": "stdout",
     "output_type": "stream",
     "text": [
      "Mean: 3.375, Median: 3.5, Mode: 5\n"
     ]
    }
   ],
   "source": [
    "import statistics\n",
    "\n",
    "data = [1, 2, 2, 3, 4, 5, 5, 5]\n",
    "\n",
    "mean_value = statistics.mean(data)\n",
    "median_value = statistics.median(data)\n",
    "mode_value = statistics.mode(data)\n",
    "\n",
    "print(f\"Mean: {mean_value}, Median: {median_value}, Mode: {mode_value}\")"
   ]
  },
  {
   "cell_type": "code",
   "execution_count": 2,
   "id": "06eb2217-5881-4d2e-8f80-1d783fd7e9ab",
   "metadata": {},
   "outputs": [
    {
     "name": "stdout",
     "output_type": "stream",
     "text": [
      "Original Matrix:\n",
      "[[1 2]\n",
      " [3 4]]\n",
      "Transposed Matrix:\n",
      "[[1 3]\n",
      " [2 4]]\n"
     ]
    }
   ],
   "source": [
    "import numpy as np\n",
    "\n",
    "# Create a 2x2 matrix\n",
    "matrix = np.array([[1, 2],\n",
    "                   [3, 4]])\n",
    "\n",
    "# Transpose the matrix\n",
    "transposed_matrix = matrix.T\n",
    "\n",
    "print(f\"Original Matrix:\\n{matrix}\")\n",
    "print(f\"Transposed Matrix:\\n{transposed_matrix}\")"
   ]
  },
  {
   "cell_type": "code",
   "execution_count": 3,
   "id": "73c11aca-33b9-4593-8b24-e49865960ea4",
   "metadata": {},
   "outputs": [
    {
     "name": "stdout",
     "output_type": "stream",
     "text": [
      "Factorial of 5: 120\n"
     ]
    }
   ],
   "source": [
    "import math\n",
    "\n",
    "number = 5\n",
    "factorial_value = math.factorial(number)\n",
    "\n",
    "print(f\"Factorial of {number}: {factorial_value}\")"
   ]
  },
  {
   "cell_type": "code",
   "execution_count": 4,
   "id": "a2c11f70-eab3-4529-a4c3-4f62323cdb0a",
   "metadata": {},
   "outputs": [
    {
     "name": "stdout",
     "output_type": "stream",
     "text": [
      "T-statistic: 0.3495310368212776, P-value: 0.738631780377329\n"
     ]
    }
   ],
   "source": [
    "import numpy as np\n",
    "from scipy import stats\n",
    "\n",
    "data1 = np.array([2.3, 3.4, 3.8, 4.1])\n",
    "data2 = np.array([3.1, 2.9, 3.3, 3.7])\n",
    "\n",
    "t_statistic, p_value = stats.ttest_ind(data1, data2)\n",
    "\n",
    "print(f\"T-statistic: {t_statistic}, P-value: {p_value}\")"
   ]
  },
  {
   "cell_type": "code",
   "execution_count": 6,
   "id": "650059d0-9f30-4631-9f7f-a5dcd84b21a2",
   "metadata": {},
   "outputs": [
    {
     "name": "stdout",
     "output_type": "stream",
     "text": [
      "10^1 = 10.0\n",
      "10^2 = 100.0\n",
      "10^3 = 1000.0\n",
      "10^4 = 10000.0\n",
      "10^5 = 100000.0\n"
     ]
    }
   ],
   "source": [
    "from scipy.special import exp10\n",
    "\n",
    "# Calculate powers of ten for a range \n",
    "for i in range(1, 6): \n",
    "    print(f\"10^{i} = {exp10(i)}\")"
   ]
  },
  {
   "cell_type": "code",
   "execution_count": null,
   "id": "4b92fb4d-ce85-460d-9c5b-daae6c9c9208",
   "metadata": {},
   "outputs": [],
   "source": []
  }
 ],
 "metadata": {
  "kernelspec": {
   "display_name": "Python 3 (ipykernel)",
   "language": "python",
   "name": "python3"
  },
  "language_info": {
   "codemirror_mode": {
    "name": "ipython",
    "version": 3
   },
   "file_extension": ".py",
   "mimetype": "text/x-python",
   "name": "python",
   "nbconvert_exporter": "python",
   "pygments_lexer": "ipython3",
   "version": "3.11.7"
  }
 },
 "nbformat": 4,
 "nbformat_minor": 5
}
