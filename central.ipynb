{
 "cells": [
  {
   "cell_type": "code",
   "execution_count": 2,
   "id": "3e95064e-9a29-4ad1-8d9a-0a5f318ee177",
   "metadata": {},
   "outputs": [
    {
     "name": "stdout",
     "output_type": "stream",
     "text": [
      "Central Tendency Measures:\n",
      "Mean: 36.666666666666664\n",
      "Mode: 50\n",
      "Median: 40\n",
      "\n",
      "Measure of Dispersion:\n",
      "Variance: 300\n",
      "Standard Deviation: 17.320508075688775\n"
     ]
    }
   ],
   "source": [
    "import statistics\n",
    "\n",
    "data = [10, 20, 20, 30, 40, 50, 50, 50, 60]\n",
    "\n",
    "print(\"Central Tendency Measures:\")\n",
    "\n",
    "mean = statistics.mean(data)\n",
    "print(\"Mean:\", mean)\n",
    "\n",
    "mode = statistics.mode(data)\n",
    "print(\"Mode:\", mode)\n",
    "\n",
    "median = statistics.median(data)\n",
    "print(\"Median:\", median)\n",
    "\n",
    "print()\n",
    "print(\"Measure of Dispersion:\")\n",
    "\n",
    "var = statistics.variance(data)\n",
    "print(\"Variance:\", var)\n",
    "\n",
    "std_dev = statistics.stdev(data)\n",
    "print(\"Standard Deviation:\", std_dev)\n"
   ]
  },
  {
   "cell_type": "code",
   "execution_count": null,
   "id": "4828c40d-7c63-4c0d-a808-8434e8f98f1f",
   "metadata": {},
   "outputs": [],
   "source": []
  }
 ],
 "metadata": {
  "kernelspec": {
   "display_name": "Python 3 (ipykernel)",
   "language": "python",
   "name": "python3"
  },
  "language_info": {
   "codemirror_mode": {
    "name": "ipython",
    "version": 3
   },
   "file_extension": ".py",
   "mimetype": "text/x-python",
   "name": "python",
   "nbconvert_exporter": "python",
   "pygments_lexer": "ipython3",
   "version": "3.11.7"
  }
 },
 "nbformat": 4,
 "nbformat_minor": 5
}
